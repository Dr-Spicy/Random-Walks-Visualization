{
 "cells": [
  {
   "cell_type": "markdown",
   "source": [
    "# Generate random walks\n",
    "\n",
    "    ## We kick it off by creating the RandomWalk class, which will make random decisios about which direction the walk should take.\n",
    "\n",
    "    ## It takes 3 attrs:\n",
    "        ### 1. avariable to track the # of points in the walk\n",
    "        ### 1 list to store x- coor\n",
    "        ### 1 list to store y- coor\n",
    "\n",
    "    ## It has 2 methods:\n",
    "        ### __init__()\n",
    "        ### fill_walk(), which determins the full seq of points in the walk\n",
    "\n",
    "    ## Inside fill_walk()\n",
    "        ### 1. set while loop runs until len(x_value) > num_points\n",
    "        ### 2. for either x or y, get its direction by choice between [-1, 1],\n",
    "             Then, sample its distance from range(0,5), and the final step is the prodcut of the direction and distance\n",
    "        ### 3. Rejects null move, meaning if x_step == 0 and y_step == 0, then continue\n",
    "        ### 4. the new position of x or y becomes the addition of the last element from x or y values and the step\n",
    "        ### 5. append the new position into the value lists.\n",
    "\n",
    " # Plotting the Random Walks\n",
    "    ## In rw_visual.py, we import RandomWalk and instance it and fill it.\n",
    "\n",
    "    ## scatter plot x_values and y_values\n",
    "\n",
    "    ## ax.set_aspect('equal') to specify that both axes should have equal spacing btw ticks.\n",
    "\n",
    "    ## Wrap a while loop outside to make multiple rws with a input to decide the flag at the end of each while loop. When it is to end the program, type 'n'.\n",
    "\n",
    "# Stying the Walks\n",
    "\n",
    "    ## Coloring the points within the same walk with a colormap.\n",
    "\n",
    "    ## Remove the black outline from each dot so color becomes more obvious. It's done by setting the edgecolors='none' inside of .scatter()\n",
    "\n",
    "# Plotting the starting and ending points\n",
    "\n",
    "    ## We can plot the starting and ending points individually and differently after the main walks have been plotted.\n",
    "\n",
    "# Clean up the axes\n",
    "\n",
    "    ## Remove the axes to be distraction-free by ax.get_xaxis().set_visible(False)\n",
    "\n",
    "    ## ax.get_xaxis() and .get_yaxis() methods are used to modify axes' visualizations.\n",
    "\n",
    "# Adding Plot points\n",
    "\n",
    "    ## change the num_points inthe initialization to 50K and change the size of walk points to 1.\n",
    "\n",
    "# Altering the size to fill the screen\n",
    "\n",
    "    ## Adjust the size of Matplotlab's output by calling figsize(15, 9) inside .subplots(), which sets the size of the figure.\n",
    "\n",
    "    ## The figsize parameter takes a tuple. Matplotlab assumes screen resolution is 100 pixel/inch, or we could add another param 'dpi=128'.\n"
   ],
   "metadata": {
    "collapsed": false
   }
  }
 ],
 "metadata": {
  "kernelspec": {
   "display_name": "Python 3",
   "language": "python",
   "name": "python3"
  },
  "language_info": {
   "codemirror_mode": {
    "name": "ipython",
    "version": 2
   },
   "file_extension": ".py",
   "mimetype": "text/x-python",
   "name": "python",
   "nbconvert_exporter": "python",
   "pygments_lexer": "ipython2",
   "version": "2.7.6"
  }
 },
 "nbformat": 4,
 "nbformat_minor": 0
}
